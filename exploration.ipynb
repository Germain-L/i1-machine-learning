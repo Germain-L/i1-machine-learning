{
 "cells": [
  {
   "attachments": {},
   "cell_type": "markdown",
   "id": "92bb56a8",
   "metadata": {},
   "source": [
    "# Projet\n",
    "Bienvenue chez EPSI DEV! Votre première mission consiste à construire un modèle\n",
    "des prix immobiliers en Californie en vous basant sur les données de recensement.\n",
    "Ces données comportent un certain nombre de variables quantitatives telles que la\n",
    "population, le revenu médian et le prix médian des habitations pour chacun des\n",
    "“Blocks” recensés en Californie. \n",
    "\n",
    "Ces “Blocks” constituent la plus petite subdivision pour laquelle les services américains du recensement publient des données(en\n",
    "général, ils regroupent de 600 à 3000 personnes). Nous les appellerons “districts”\n",
    "dans ce qui suit.\n",
    "\n",
    "Votre modèle devra apprendre de ces données et être capable de prédire le prix\n",
    "médian des habitations dans chaque district, en fonction des autres variables\n",
    "connues.\n",
    "\n",
    "Pour l’instant nous allons juste nous focaliser sur l’analyse exploratoire et le\n",
    "nettoyage des données du dataset, le reste du travail sera fait par la suite lorsque\n",
    "nous aurons assimiler des notions plus approfondies sur le machine learning."
   ]
  },
  {
   "attachments": {},
   "cell_type": "markdown",
   "id": "b1a60934",
   "metadata": {},
   "source": [
    "# Importation des librairies"
   ]
  },
  {
   "cell_type": "code",
   "execution_count": 10,
   "id": "1da3cbca",
   "metadata": {
    "ExecuteTime": {
     "end_time": "2024-04-17T07:28:07.782698Z",
     "start_time": "2024-04-17T07:28:07.769086Z"
    }
   },
   "outputs": [],
   "source": [
    "import pandas as pd"
   ]
  },
  {
   "attachments": {},
   "cell_type": "markdown",
   "id": "40db4f22",
   "metadata": {},
   "source": [
    "# Lecture du dataset"
   ]
  },
  {
   "cell_type": "code",
   "execution_count": 11,
   "id": "ecdff797",
   "metadata": {
    "ExecuteTime": {
     "end_time": "2024-04-17T07:28:07.939230Z",
     "start_time": "2024-04-17T07:28:07.890509Z"
    }
   },
   "outputs": [],
   "source": [
    "df = pd.read_csv(\"housing.csv\")"
   ]
  },
  {
   "attachments": {},
   "cell_type": "markdown",
   "id": "434136cc",
   "metadata": {},
   "source": [
    "# Affichage des 5 premières lignes et des 5 dernières lignes"
   ]
  },
  {
   "cell_type": "code",
   "execution_count": 12,
   "id": "b1e9993b",
   "metadata": {
    "ExecuteTime": {
     "end_time": "2024-04-17T07:28:07.970721Z",
     "start_time": "2024-04-17T07:28:07.943030Z"
    }
   },
   "outputs": [
    {
     "data": {
      "text/plain": "       longitude  latitude  housing_median_age  total_rooms  total_bedrooms  \\\n0        -122.23     37.88                41.0        880.0           129.0   \n1        -122.22     37.86                21.0       7099.0          1106.0   \n2        -122.24     37.85                52.0       1467.0           190.0   \n3        -122.25     37.85                52.0       1274.0           235.0   \n4        -122.25     37.85                52.0       1627.0           280.0   \n...          ...       ...                 ...          ...             ...   \n20635    -121.09     39.48                25.0       1665.0           374.0   \n20636    -121.21     39.49                18.0        697.0           150.0   \n20637    -121.22     39.43                17.0       2254.0           485.0   \n20638    -121.32     39.43                18.0       1860.0           409.0   \n20639    -121.24     39.37                16.0       2785.0           616.0   \n\n       population  households  median_income  median_house_value  \\\n0           322.0       126.0         8.3252            452600.0   \n1          2401.0      1138.0         8.3014            358500.0   \n2           496.0       177.0         7.2574            352100.0   \n3           558.0       219.0         5.6431            341300.0   \n4           565.0       259.0         3.8462            342200.0   \n...           ...         ...            ...                 ...   \n20635       845.0       330.0         1.5603             78100.0   \n20636       356.0       114.0         2.5568             77100.0   \n20637      1007.0       433.0         1.7000             92300.0   \n20638       741.0       349.0         1.8672             84700.0   \n20639      1387.0       530.0         2.3886             89400.0   \n\n      ocean_proximity  \n0            NEAR BAY  \n1            NEAR BAY  \n2            NEAR BAY  \n3            NEAR BAY  \n4            NEAR BAY  \n...               ...  \n20635          INLAND  \n20636          INLAND  \n20637          INLAND  \n20638          INLAND  \n20639          INLAND  \n\n[20640 rows x 10 columns]",
      "text/html": "<div>\n<style scoped>\n    .dataframe tbody tr th:only-of-type {\n        vertical-align: middle;\n    }\n\n    .dataframe tbody tr th {\n        vertical-align: top;\n    }\n\n    .dataframe thead th {\n        text-align: right;\n    }\n</style>\n<table border=\"1\" class=\"dataframe\">\n  <thead>\n    <tr style=\"text-align: right;\">\n      <th></th>\n      <th>longitude</th>\n      <th>latitude</th>\n      <th>housing_median_age</th>\n      <th>total_rooms</th>\n      <th>total_bedrooms</th>\n      <th>population</th>\n      <th>households</th>\n      <th>median_income</th>\n      <th>median_house_value</th>\n      <th>ocean_proximity</th>\n    </tr>\n  </thead>\n  <tbody>\n    <tr>\n      <th>0</th>\n      <td>-122.23</td>\n      <td>37.88</td>\n      <td>41.0</td>\n      <td>880.0</td>\n      <td>129.0</td>\n      <td>322.0</td>\n      <td>126.0</td>\n      <td>8.3252</td>\n      <td>452600.0</td>\n      <td>NEAR BAY</td>\n    </tr>\n    <tr>\n      <th>1</th>\n      <td>-122.22</td>\n      <td>37.86</td>\n      <td>21.0</td>\n      <td>7099.0</td>\n      <td>1106.0</td>\n      <td>2401.0</td>\n      <td>1138.0</td>\n      <td>8.3014</td>\n      <td>358500.0</td>\n      <td>NEAR BAY</td>\n    </tr>\n    <tr>\n      <th>2</th>\n      <td>-122.24</td>\n      <td>37.85</td>\n      <td>52.0</td>\n      <td>1467.0</td>\n      <td>190.0</td>\n      <td>496.0</td>\n      <td>177.0</td>\n      <td>7.2574</td>\n      <td>352100.0</td>\n      <td>NEAR BAY</td>\n    </tr>\n    <tr>\n      <th>3</th>\n      <td>-122.25</td>\n      <td>37.85</td>\n      <td>52.0</td>\n      <td>1274.0</td>\n      <td>235.0</td>\n      <td>558.0</td>\n      <td>219.0</td>\n      <td>5.6431</td>\n      <td>341300.0</td>\n      <td>NEAR BAY</td>\n    </tr>\n    <tr>\n      <th>4</th>\n      <td>-122.25</td>\n      <td>37.85</td>\n      <td>52.0</td>\n      <td>1627.0</td>\n      <td>280.0</td>\n      <td>565.0</td>\n      <td>259.0</td>\n      <td>3.8462</td>\n      <td>342200.0</td>\n      <td>NEAR BAY</td>\n    </tr>\n    <tr>\n      <th>...</th>\n      <td>...</td>\n      <td>...</td>\n      <td>...</td>\n      <td>...</td>\n      <td>...</td>\n      <td>...</td>\n      <td>...</td>\n      <td>...</td>\n      <td>...</td>\n      <td>...</td>\n    </tr>\n    <tr>\n      <th>20635</th>\n      <td>-121.09</td>\n      <td>39.48</td>\n      <td>25.0</td>\n      <td>1665.0</td>\n      <td>374.0</td>\n      <td>845.0</td>\n      <td>330.0</td>\n      <td>1.5603</td>\n      <td>78100.0</td>\n      <td>INLAND</td>\n    </tr>\n    <tr>\n      <th>20636</th>\n      <td>-121.21</td>\n      <td>39.49</td>\n      <td>18.0</td>\n      <td>697.0</td>\n      <td>150.0</td>\n      <td>356.0</td>\n      <td>114.0</td>\n      <td>2.5568</td>\n      <td>77100.0</td>\n      <td>INLAND</td>\n    </tr>\n    <tr>\n      <th>20637</th>\n      <td>-121.22</td>\n      <td>39.43</td>\n      <td>17.0</td>\n      <td>2254.0</td>\n      <td>485.0</td>\n      <td>1007.0</td>\n      <td>433.0</td>\n      <td>1.7000</td>\n      <td>92300.0</td>\n      <td>INLAND</td>\n    </tr>\n    <tr>\n      <th>20638</th>\n      <td>-121.32</td>\n      <td>39.43</td>\n      <td>18.0</td>\n      <td>1860.0</td>\n      <td>409.0</td>\n      <td>741.0</td>\n      <td>349.0</td>\n      <td>1.8672</td>\n      <td>84700.0</td>\n      <td>INLAND</td>\n    </tr>\n    <tr>\n      <th>20639</th>\n      <td>-121.24</td>\n      <td>39.37</td>\n      <td>16.0</td>\n      <td>2785.0</td>\n      <td>616.0</td>\n      <td>1387.0</td>\n      <td>530.0</td>\n      <td>2.3886</td>\n      <td>89400.0</td>\n      <td>INLAND</td>\n    </tr>\n  </tbody>\n</table>\n<p>20640 rows × 10 columns</p>\n</div>"
     },
     "execution_count": 12,
     "metadata": {},
     "output_type": "execute_result"
    }
   ],
   "source": [
    "df"
   ]
  },
  {
   "cell_type": "code",
   "outputs": [
    {
     "data": {
      "text/plain": "       index  housing_median_age  total_rooms  total_bedrooms  population  \\\n0          0                41.0        880.0           129.0       322.0   \n1          1                21.0       7099.0          1106.0      2401.0   \n2          2                52.0       1467.0           190.0       496.0   \n3          3                52.0       1274.0           235.0       558.0   \n4          4                52.0       1627.0           280.0       565.0   \n...      ...                 ...          ...             ...         ...   \n20635  20635                25.0       1665.0           374.0       845.0   \n20636  20636                18.0        697.0           150.0       356.0   \n20637  20637                17.0       2254.0           485.0      1007.0   \n20638  20638                18.0       1860.0           409.0       741.0   \n20639  20639                16.0       2785.0           616.0      1387.0   \n\n       households  median_income  median_house_value ocean_proximity  \\\n0           126.0         8.3252            452600.0        NEAR BAY   \n1          1138.0         8.3014            358500.0        NEAR BAY   \n2           177.0         7.2574            352100.0        NEAR BAY   \n3           219.0         5.6431            341300.0        NEAR BAY   \n4           259.0         3.8462            342200.0        NEAR BAY   \n...           ...            ...                 ...             ...   \n20635       330.0         1.5603             78100.0          INLAND   \n20636       114.0         2.5568             77100.0          INLAND   \n20637       433.0         1.7000             92300.0          INLAND   \n20638       349.0         1.8672             84700.0          INLAND   \n20639       530.0         2.3886             89400.0          INLAND   \n\n           distance  \n0        488.161612  \n1        349.038415  \n2        307.302745  \n3        317.448836  \n4        317.448836  \n...             ...  \n20635  11771.469185  \n20636  11723.575548  \n20637  11094.433869  \n20638  11002.664697  \n20639  10464.174201  \n\n[20640 rows x 10 columns]",
      "text/html": "<div>\n<style scoped>\n    .dataframe tbody tr th:only-of-type {\n        vertical-align: middle;\n    }\n\n    .dataframe tbody tr th {\n        vertical-align: top;\n    }\n\n    .dataframe thead th {\n        text-align: right;\n    }\n</style>\n<table border=\"1\" class=\"dataframe\">\n  <thead>\n    <tr style=\"text-align: right;\">\n      <th></th>\n      <th>index</th>\n      <th>housing_median_age</th>\n      <th>total_rooms</th>\n      <th>total_bedrooms</th>\n      <th>population</th>\n      <th>households</th>\n      <th>median_income</th>\n      <th>median_house_value</th>\n      <th>ocean_proximity</th>\n      <th>distance</th>\n    </tr>\n  </thead>\n  <tbody>\n    <tr>\n      <th>0</th>\n      <td>0</td>\n      <td>41.0</td>\n      <td>880.0</td>\n      <td>129.0</td>\n      <td>322.0</td>\n      <td>126.0</td>\n      <td>8.3252</td>\n      <td>452600.0</td>\n      <td>NEAR BAY</td>\n      <td>488.161612</td>\n    </tr>\n    <tr>\n      <th>1</th>\n      <td>1</td>\n      <td>21.0</td>\n      <td>7099.0</td>\n      <td>1106.0</td>\n      <td>2401.0</td>\n      <td>1138.0</td>\n      <td>8.3014</td>\n      <td>358500.0</td>\n      <td>NEAR BAY</td>\n      <td>349.038415</td>\n    </tr>\n    <tr>\n      <th>2</th>\n      <td>2</td>\n      <td>52.0</td>\n      <td>1467.0</td>\n      <td>190.0</td>\n      <td>496.0</td>\n      <td>177.0</td>\n      <td>7.2574</td>\n      <td>352100.0</td>\n      <td>NEAR BAY</td>\n      <td>307.302745</td>\n    </tr>\n    <tr>\n      <th>3</th>\n      <td>3</td>\n      <td>52.0</td>\n      <td>1274.0</td>\n      <td>235.0</td>\n      <td>558.0</td>\n      <td>219.0</td>\n      <td>5.6431</td>\n      <td>341300.0</td>\n      <td>NEAR BAY</td>\n      <td>317.448836</td>\n    </tr>\n    <tr>\n      <th>4</th>\n      <td>4</td>\n      <td>52.0</td>\n      <td>1627.0</td>\n      <td>280.0</td>\n      <td>565.0</td>\n      <td>259.0</td>\n      <td>3.8462</td>\n      <td>342200.0</td>\n      <td>NEAR BAY</td>\n      <td>317.448836</td>\n    </tr>\n    <tr>\n      <th>...</th>\n      <td>...</td>\n      <td>...</td>\n      <td>...</td>\n      <td>...</td>\n      <td>...</td>\n      <td>...</td>\n      <td>...</td>\n      <td>...</td>\n      <td>...</td>\n      <td>...</td>\n    </tr>\n    <tr>\n      <th>20635</th>\n      <td>20635</td>\n      <td>25.0</td>\n      <td>1665.0</td>\n      <td>374.0</td>\n      <td>845.0</td>\n      <td>330.0</td>\n      <td>1.5603</td>\n      <td>78100.0</td>\n      <td>INLAND</td>\n      <td>11771.469185</td>\n    </tr>\n    <tr>\n      <th>20636</th>\n      <td>20636</td>\n      <td>18.0</td>\n      <td>697.0</td>\n      <td>150.0</td>\n      <td>356.0</td>\n      <td>114.0</td>\n      <td>2.5568</td>\n      <td>77100.0</td>\n      <td>INLAND</td>\n      <td>11723.575548</td>\n    </tr>\n    <tr>\n      <th>20637</th>\n      <td>20637</td>\n      <td>17.0</td>\n      <td>2254.0</td>\n      <td>485.0</td>\n      <td>1007.0</td>\n      <td>433.0</td>\n      <td>1.7000</td>\n      <td>92300.0</td>\n      <td>INLAND</td>\n      <td>11094.433869</td>\n    </tr>\n    <tr>\n      <th>20638</th>\n      <td>20638</td>\n      <td>18.0</td>\n      <td>1860.0</td>\n      <td>409.0</td>\n      <td>741.0</td>\n      <td>349.0</td>\n      <td>1.8672</td>\n      <td>84700.0</td>\n      <td>INLAND</td>\n      <td>11002.664697</td>\n    </tr>\n    <tr>\n      <th>20639</th>\n      <td>20639</td>\n      <td>16.0</td>\n      <td>2785.0</td>\n      <td>616.0</td>\n      <td>1387.0</td>\n      <td>530.0</td>\n      <td>2.3886</td>\n      <td>89400.0</td>\n      <td>INLAND</td>\n      <td>10464.174201</td>\n    </tr>\n  </tbody>\n</table>\n<p>20640 rows × 10 columns</p>\n</div>"
     },
     "execution_count": 13,
     "metadata": {},
     "output_type": "execute_result"
    }
   ],
   "source": [
    "from math import sqrt, cos, sin, asin\n",
    "\n",
    "distance_array = []\n",
    "\n",
    "for long,lat in zip(df['longitude'], df['latitude']):\n",
    "    lat2 = 37.787994\n",
    "    long2 = -122.407437\n",
    "    distance_array.append(2 * 6371 * asin(sqrt(sin(((lat2 - lat)/2) + cos(lat) * cos(lat2) * sin((long2 - long)/2)**2)**2)))\n",
    "\n",
    "df.drop(['longitude', 'latitude'], axis=1, inplace=True)\n",
    "df.reset_index(inplace=True)\n",
    "\n",
    "df['distance'] = distance_array\n",
    "\n",
    "df"
   ],
   "metadata": {
    "collapsed": false,
    "ExecuteTime": {
     "end_time": "2024-04-17T07:28:08.043746Z",
     "start_time": "2024-04-17T07:28:07.971816Z"
    }
   },
   "id": "c17c662b296621ee",
   "execution_count": 13
  },
  {
   "attachments": {},
   "cell_type": "markdown",
   "id": "59df56ef",
   "metadata": {},
   "source": [
    "# Informations sur le dataset (nombre de lignes, nombre de colonnes, type de chaque colonne, nombre de valeurs non nulles)"
   ]
  },
  {
   "cell_type": "code",
   "execution_count": 14,
   "id": "ce4963bd",
   "metadata": {
    "ExecuteTime": {
     "end_time": "2024-04-17T07:28:08.073932Z",
     "start_time": "2024-04-17T07:28:08.049139Z"
    }
   },
   "outputs": [
    {
     "name": "stdout",
     "output_type": "stream",
     "text": [
      "<class 'pandas.core.frame.DataFrame'>\n",
      "RangeIndex: 20640 entries, 0 to 20639\n",
      "Data columns (total 10 columns):\n",
      " #   Column              Non-Null Count  Dtype  \n",
      "---  ------              --------------  -----  \n",
      " 0   index               20640 non-null  int64  \n",
      " 1   housing_median_age  20640 non-null  float64\n",
      " 2   total_rooms         20640 non-null  float64\n",
      " 3   total_bedrooms      20433 non-null  float64\n",
      " 4   population          20640 non-null  float64\n",
      " 5   households          20640 non-null  float64\n",
      " 6   median_income       20640 non-null  float64\n",
      " 7   median_house_value  20640 non-null  float64\n",
      " 8   ocean_proximity     20640 non-null  object \n",
      " 9   distance            20640 non-null  float64\n",
      "dtypes: float64(8), int64(1), object(1)\n",
      "memory usage: 1.6+ MB\n"
     ]
    }
   ],
   "source": [
    "# Description du jeu de données\n",
    "df.info()"
   ]
  },
  {
   "attachments": {},
   "cell_type": "markdown",
   "id": "fa0933ff",
   "metadata": {},
   "source": [
    "# Affichage du nombre de valeurs qualitative"
   ]
  },
  {
   "cell_type": "code",
   "execution_count": 15,
   "id": "3b7f80ab",
   "metadata": {
    "ExecuteTime": {
     "end_time": "2024-04-17T07:28:08.089617Z",
     "start_time": "2024-04-17T07:28:08.077368Z"
    }
   },
   "outputs": [
    {
     "data": {
      "text/plain": "ocean_proximity\n<1H OCEAN     9136\nINLAND        6551\nNEAR OCEAN    2658\nNEAR BAY      2290\nISLAND           5\nName: count, dtype: int64"
     },
     "execution_count": 15,
     "metadata": {},
     "output_type": "execute_result"
    }
   ],
   "source": [
    "# Afficher les modalité de la variables `ocean_proximity`\n",
    "df[\"ocean_proximity\"].value_counts()"
   ]
  },
  {
   "attachments": {},
   "cell_type": "markdown",
   "id": "f21dfbeb",
   "metadata": {},
   "source": [
    "# Analyse descriptive univariée"
   ]
  },
  {
   "cell_type": "code",
   "execution_count": 16,
   "id": "ae8507d1",
   "metadata": {
    "ExecuteTime": {
     "end_time": "2024-04-17T07:28:08.152038Z",
     "start_time": "2024-04-17T07:28:08.094051Z"
    }
   },
   "outputs": [
    {
     "data": {
      "text/plain": "               index  housing_median_age   total_rooms  total_bedrooms  \\\ncount   20640.000000        20640.000000  20640.000000    20433.000000   \nunique           NaN                 NaN           NaN             NaN   \ntop              NaN                 NaN           NaN             NaN   \nfreq             NaN                 NaN           NaN             NaN   \nmean    10319.500000           28.639486   2635.763081      537.870553   \nstd      5958.399114           12.585558   2181.615252      421.385070   \nmin         0.000000            1.000000      2.000000        1.000000   \n25%      5159.750000           18.000000   1447.750000      296.000000   \n50%     10319.500000           29.000000   2127.000000      435.000000   \n75%     15479.250000           37.000000   3148.000000      647.000000   \nmax     20639.000000           52.000000  39320.000000     6445.000000   \n\n          population    households  median_income  median_house_value  \\\ncount   20640.000000  20640.000000   20640.000000        20640.000000   \nunique           NaN           NaN            NaN                 NaN   \ntop              NaN           NaN            NaN                 NaN   \nfreq             NaN           NaN            NaN                 NaN   \nmean     1425.476744    499.539680       3.870671       206855.816909   \nstd      1132.462122    382.329753       1.899822       115395.615874   \nmin         3.000000      1.000000       0.499900        14999.000000   \n25%       787.000000    280.000000       2.563400       119600.000000   \n50%      1166.000000    409.000000       3.534800       179700.000000   \n75%      1725.000000    605.000000       4.743250       264725.000000   \nmax     35682.000000   6082.000000      15.000100       500001.000000   \n\n       ocean_proximity      distance  \ncount            20640  20640.000000  \nunique               5           NaN  \ntop          <1H OCEAN           NaN  \nfreq              9136           NaN  \nmean               NaN  10525.970502  \nstd                NaN   6421.444615  \nmin                NaN      0.416280  \n25%                NaN   3915.792398  \n50%                NaN  11520.658840  \n75%                NaN  16322.339072  \nmax                NaN  20014.483818  ",
      "text/html": "<div>\n<style scoped>\n    .dataframe tbody tr th:only-of-type {\n        vertical-align: middle;\n    }\n\n    .dataframe tbody tr th {\n        vertical-align: top;\n    }\n\n    .dataframe thead th {\n        text-align: right;\n    }\n</style>\n<table border=\"1\" class=\"dataframe\">\n  <thead>\n    <tr style=\"text-align: right;\">\n      <th></th>\n      <th>index</th>\n      <th>housing_median_age</th>\n      <th>total_rooms</th>\n      <th>total_bedrooms</th>\n      <th>population</th>\n      <th>households</th>\n      <th>median_income</th>\n      <th>median_house_value</th>\n      <th>ocean_proximity</th>\n      <th>distance</th>\n    </tr>\n  </thead>\n  <tbody>\n    <tr>\n      <th>count</th>\n      <td>20640.000000</td>\n      <td>20640.000000</td>\n      <td>20640.000000</td>\n      <td>20433.000000</td>\n      <td>20640.000000</td>\n      <td>20640.000000</td>\n      <td>20640.000000</td>\n      <td>20640.000000</td>\n      <td>20640</td>\n      <td>20640.000000</td>\n    </tr>\n    <tr>\n      <th>unique</th>\n      <td>NaN</td>\n      <td>NaN</td>\n      <td>NaN</td>\n      <td>NaN</td>\n      <td>NaN</td>\n      <td>NaN</td>\n      <td>NaN</td>\n      <td>NaN</td>\n      <td>5</td>\n      <td>NaN</td>\n    </tr>\n    <tr>\n      <th>top</th>\n      <td>NaN</td>\n      <td>NaN</td>\n      <td>NaN</td>\n      <td>NaN</td>\n      <td>NaN</td>\n      <td>NaN</td>\n      <td>NaN</td>\n      <td>NaN</td>\n      <td>&lt;1H OCEAN</td>\n      <td>NaN</td>\n    </tr>\n    <tr>\n      <th>freq</th>\n      <td>NaN</td>\n      <td>NaN</td>\n      <td>NaN</td>\n      <td>NaN</td>\n      <td>NaN</td>\n      <td>NaN</td>\n      <td>NaN</td>\n      <td>NaN</td>\n      <td>9136</td>\n      <td>NaN</td>\n    </tr>\n    <tr>\n      <th>mean</th>\n      <td>10319.500000</td>\n      <td>28.639486</td>\n      <td>2635.763081</td>\n      <td>537.870553</td>\n      <td>1425.476744</td>\n      <td>499.539680</td>\n      <td>3.870671</td>\n      <td>206855.816909</td>\n      <td>NaN</td>\n      <td>10525.970502</td>\n    </tr>\n    <tr>\n      <th>std</th>\n      <td>5958.399114</td>\n      <td>12.585558</td>\n      <td>2181.615252</td>\n      <td>421.385070</td>\n      <td>1132.462122</td>\n      <td>382.329753</td>\n      <td>1.899822</td>\n      <td>115395.615874</td>\n      <td>NaN</td>\n      <td>6421.444615</td>\n    </tr>\n    <tr>\n      <th>min</th>\n      <td>0.000000</td>\n      <td>1.000000</td>\n      <td>2.000000</td>\n      <td>1.000000</td>\n      <td>3.000000</td>\n      <td>1.000000</td>\n      <td>0.499900</td>\n      <td>14999.000000</td>\n      <td>NaN</td>\n      <td>0.416280</td>\n    </tr>\n    <tr>\n      <th>25%</th>\n      <td>5159.750000</td>\n      <td>18.000000</td>\n      <td>1447.750000</td>\n      <td>296.000000</td>\n      <td>787.000000</td>\n      <td>280.000000</td>\n      <td>2.563400</td>\n      <td>119600.000000</td>\n      <td>NaN</td>\n      <td>3915.792398</td>\n    </tr>\n    <tr>\n      <th>50%</th>\n      <td>10319.500000</td>\n      <td>29.000000</td>\n      <td>2127.000000</td>\n      <td>435.000000</td>\n      <td>1166.000000</td>\n      <td>409.000000</td>\n      <td>3.534800</td>\n      <td>179700.000000</td>\n      <td>NaN</td>\n      <td>11520.658840</td>\n    </tr>\n    <tr>\n      <th>75%</th>\n      <td>15479.250000</td>\n      <td>37.000000</td>\n      <td>3148.000000</td>\n      <td>647.000000</td>\n      <td>1725.000000</td>\n      <td>605.000000</td>\n      <td>4.743250</td>\n      <td>264725.000000</td>\n      <td>NaN</td>\n      <td>16322.339072</td>\n    </tr>\n    <tr>\n      <th>max</th>\n      <td>20639.000000</td>\n      <td>52.000000</td>\n      <td>39320.000000</td>\n      <td>6445.000000</td>\n      <td>35682.000000</td>\n      <td>6082.000000</td>\n      <td>15.000100</td>\n      <td>500001.000000</td>\n      <td>NaN</td>\n      <td>20014.483818</td>\n    </tr>\n  </tbody>\n</table>\n</div>"
     },
     "execution_count": 16,
     "metadata": {},
     "output_type": "execute_result"
    }
   ],
   "source": [
    "df.describe(include=\"all\")"
   ]
  },
  {
   "attachments": {},
   "cell_type": "markdown",
   "id": "59a2bbb6",
   "metadata": {},
   "source": [
    "# Bibliothèque pour la visualisation"
   ]
  },
  {
   "cell_type": "code",
   "execution_count": 17,
   "id": "5eb9141a",
   "metadata": {
    "ExecuteTime": {
     "end_time": "2024-04-17T07:28:08.184131Z",
     "start_time": "2024-04-17T07:28:08.154093Z"
    }
   },
   "outputs": [
    {
     "ename": "ModuleNotFoundError",
     "evalue": "No module named 'matplotlib'",
     "output_type": "error",
     "traceback": [
      "\u001B[1;31m---------------------------------------------------------------------------\u001B[0m",
      "\u001B[1;31mModuleNotFoundError\u001B[0m                       Traceback (most recent call last)",
      "Cell \u001B[1;32mIn[17], line 1\u001B[0m\n\u001B[1;32m----> 1\u001B[0m \u001B[38;5;28;01mimport\u001B[39;00m \u001B[38;5;21;01mmatplotlib\u001B[39;00m\u001B[38;5;21;01m.\u001B[39;00m\u001B[38;5;21;01mpyplot\u001B[39;00m \u001B[38;5;28;01mas\u001B[39;00m \u001B[38;5;21;01mplt\u001B[39;00m\n",
      "\u001B[1;31mModuleNotFoundError\u001B[0m: No module named 'matplotlib'"
     ]
    }
   ],
   "source": [
    "import matplotlib.pyplot as plt"
   ]
  },
  {
   "attachments": {},
   "cell_type": "markdown",
   "id": "a8415609",
   "metadata": {},
   "source": [
    "# Affichage de la localisation des maisons avec un scatter et alpha"
   ]
  },
  {
   "cell_type": "code",
   "execution_count": null,
   "id": "0afe31db",
   "metadata": {
    "ExecuteTime": {
     "end_time": "2024-04-17T07:28:08.188426Z",
     "start_time": "2024-04-17T07:28:08.187372Z"
    }
   },
   "outputs": [],
   "source": [
    "plt.scatter(df[\"longitude\"], df[\"latitude\"], alpha=0.1)\n",
    "plt.show()"
   ]
  },
  {
   "attachments": {},
   "cell_type": "markdown",
   "id": "ef609237",
   "metadata": {},
   "source": [
    "# Répartition des localisations des maisons"
   ]
  },
  {
   "cell_type": "code",
   "execution_count": null,
   "id": "9ff8e580",
   "metadata": {
    "ExecuteTime": {
     "end_time": "2024-04-17T07:28:08.190588Z",
     "start_time": "2024-04-17T07:28:08.189510Z"
    }
   },
   "outputs": [],
   "source": [
    "plt.figure(figsize=(10, 20))\n",
    "plt.pie(x=df['ocean_proximity'].value_counts(), labels=df['ocean_proximity'].value_counts().index, autopct='%0.2f%%')\n",
    "plt.title(\"Répartition des valeurs de la variable `ocean_proximity`\")\n",
    "plt.savefig(\"repartition_ocean_proximity.png\")\n",
    "plt.show()"
   ]
  },
  {
   "attachments": {},
   "cell_type": "markdown",
   "id": "d037b194",
   "metadata": {},
   "source": [
    "# Affichage de la répartition des prix"
   ]
  },
  {
   "cell_type": "code",
   "execution_count": null,
   "id": "0252d9ae",
   "metadata": {
    "ExecuteTime": {
     "start_time": "2024-04-17T07:28:08.193871Z"
    }
   },
   "outputs": [],
   "source": [
    "plt.hist(df[\"median_house_value\"], bins=50)\n",
    "plt.show()\n"
   ]
  },
  {
   "attachments": {},
   "cell_type": "markdown",
   "id": "7434e1a3",
   "metadata": {},
   "source": [
    "# Localisation des maisons"
   ]
  },
  {
   "cell_type": "code",
   "execution_count": 18,
   "id": "b0d7d2e1",
   "metadata": {
    "ExecuteTime": {
     "end_time": "2024-04-17T07:28:08.370264Z",
     "start_time": "2024-04-17T07:28:08.328046Z"
    }
   },
   "outputs": [
    {
     "ename": "ModuleNotFoundError",
     "evalue": "No module named 'folium'",
     "output_type": "error",
     "traceback": [
      "\u001B[1;31m---------------------------------------------------------------------------\u001B[0m",
      "\u001B[1;31mModuleNotFoundError\u001B[0m                       Traceback (most recent call last)",
      "Cell \u001B[1;32mIn[18], line 1\u001B[0m\n\u001B[1;32m----> 1\u001B[0m \u001B[38;5;28;01mimport\u001B[39;00m \u001B[38;5;21;01mfolium\u001B[39;00m\n\u001B[0;32m      2\u001B[0m \u001B[38;5;28;01mimport\u001B[39;00m \u001B[38;5;21;01mfolium\u001B[39;00m\u001B[38;5;21;01m.\u001B[39;00m\u001B[38;5;21;01mplugins\u001B[39;00m\n\u001B[0;32m      4\u001B[0m cali_map \u001B[38;5;241m=\u001B[39m folium\u001B[38;5;241m.\u001B[39mMap(location\u001B[38;5;241m=\u001B[39m[\u001B[38;5;124m\"\u001B[39m\u001B[38;5;124m36.778259\u001B[39m\u001B[38;5;124m\"\u001B[39m, \u001B[38;5;124m\"\u001B[39m\u001B[38;5;124m-119.417931\u001B[39m\u001B[38;5;124m\"\u001B[39m], zoom_start\u001B[38;5;241m=\u001B[39m\u001B[38;5;241m11\u001B[39m)\n",
      "\u001B[1;31mModuleNotFoundError\u001B[0m: No module named 'folium'"
     ]
    }
   ],
   "source": [
    "import folium\n",
    "import folium.plugins\n",
    "\n",
    "cali_map = folium.Map(location=[\"36.778259\", \"-119.417931\"], zoom_start=11)\n",
    "marker_cluster = folium.plugins.MarkerCluster().add_to(cali_map)\n",
    "\n",
    "for lat, lng, in zip(df[\"latitude\"], df[\"longitude\"]):\n",
    "    folium.Marker([lat, lng]).add_to(marker_cluster)\n",
    "\n",
    "cali_map.save(\"cali_map.html\")\n",
    "cali_map"
   ]
  },
  {
   "attachments": {},
   "cell_type": "markdown",
   "id": "f3b15dd2",
   "metadata": {},
   "source": [
    "# Affichage de la corélation entre le prix et le nombre de chambre"
   ]
  },
  {
   "cell_type": "code",
   "execution_count": 19,
   "id": "c2e25854",
   "metadata": {
    "ExecuteTime": {
     "end_time": "2024-04-17T07:28:08.506399Z",
     "start_time": "2024-04-17T07:28:08.480395Z"
    }
   },
   "outputs": [
    {
     "ename": "NameError",
     "evalue": "name 'plt' is not defined",
     "output_type": "error",
     "traceback": [
      "\u001B[1;31m---------------------------------------------------------------------------\u001B[0m",
      "\u001B[1;31mNameError\u001B[0m                                 Traceback (most recent call last)",
      "Cell \u001B[1;32mIn[19], line 2\u001B[0m\n\u001B[0;32m      1\u001B[0m \u001B[38;5;66;03m# Correlate median_house_value and total_rooms\u001B[39;00m\n\u001B[1;32m----> 2\u001B[0m \u001B[43mplt\u001B[49m\u001B[38;5;241m.\u001B[39mscatter(df[\u001B[38;5;124m\"\u001B[39m\u001B[38;5;124mmedian_house_value\u001B[39m\u001B[38;5;124m\"\u001B[39m], df[\u001B[38;5;124m\"\u001B[39m\u001B[38;5;124mtotal_rooms\u001B[39m\u001B[38;5;124m\"\u001B[39m], alpha\u001B[38;5;241m=\u001B[39m\u001B[38;5;241m0.4\u001B[39m)\n",
      "\u001B[1;31mNameError\u001B[0m: name 'plt' is not defined"
     ]
    }
   ],
   "source": [
    "# Correlate median_house_value and total_rooms\n",
    "plt.scatter(df[\"median_house_value\"], df[\"total_rooms\"], alpha=0.4)"
   ]
  },
  {
   "attachments": {},
   "cell_type": "markdown",
   "id": "3143189e",
   "metadata": {},
   "source": [
    "# Test de corrélation"
   ]
  },
  {
   "cell_type": "code",
   "execution_count": 20,
   "id": "bbf79ff5",
   "metadata": {
    "ExecuteTime": {
     "end_time": "2024-04-17T07:28:09.031834Z",
     "start_time": "2024-04-17T07:28:08.596590Z"
    }
   },
   "outputs": [
    {
     "ename": "ValueError",
     "evalue": "could not convert string to float: 'NEAR BAY'",
     "output_type": "error",
     "traceback": [
      "\u001B[1;31m---------------------------------------------------------------------------\u001B[0m",
      "\u001B[1;31mValueError\u001B[0m                                Traceback (most recent call last)",
      "Cell \u001B[1;32mIn[20], line 2\u001B[0m\n\u001B[0;32m      1\u001B[0m \u001B[38;5;66;03m# Correlate median_house_value and median_income\u001B[39;00m\n\u001B[1;32m----> 2\u001B[0m corr_matrix \u001B[38;5;241m=\u001B[39m \u001B[43mdf\u001B[49m\u001B[38;5;241;43m.\u001B[39;49m\u001B[43mcorr\u001B[49m\u001B[43m(\u001B[49m\u001B[43m)\u001B[49m\n\u001B[0;32m      3\u001B[0m corr_matrix[\u001B[38;5;124m\"\u001B[39m\u001B[38;5;124mmedian_house_value\u001B[39m\u001B[38;5;124m\"\u001B[39m]\u001B[38;5;241m.\u001B[39msort_values(ascending\u001B[38;5;241m=\u001B[39m\u001B[38;5;28;01mFalse\u001B[39;00m)\n",
      "File \u001B[1;32m~\\OneDrive\\Bureau\\EPSI I1 Local\\Atl Big Data & Traitement IA\\21-03-2024\\venv\\lib\\site-packages\\pandas\\core\\frame.py:11036\u001B[0m, in \u001B[0;36mDataFrame.corr\u001B[1;34m(self, method, min_periods, numeric_only)\u001B[0m\n\u001B[0;32m  11034\u001B[0m cols \u001B[38;5;241m=\u001B[39m data\u001B[38;5;241m.\u001B[39mcolumns\n\u001B[0;32m  11035\u001B[0m idx \u001B[38;5;241m=\u001B[39m cols\u001B[38;5;241m.\u001B[39mcopy()\n\u001B[1;32m> 11036\u001B[0m mat \u001B[38;5;241m=\u001B[39m \u001B[43mdata\u001B[49m\u001B[38;5;241;43m.\u001B[39;49m\u001B[43mto_numpy\u001B[49m\u001B[43m(\u001B[49m\u001B[43mdtype\u001B[49m\u001B[38;5;241;43m=\u001B[39;49m\u001B[38;5;28;43mfloat\u001B[39;49m\u001B[43m,\u001B[49m\u001B[43m \u001B[49m\u001B[43mna_value\u001B[49m\u001B[38;5;241;43m=\u001B[39;49m\u001B[43mnp\u001B[49m\u001B[38;5;241;43m.\u001B[39;49m\u001B[43mnan\u001B[49m\u001B[43m,\u001B[49m\u001B[43m \u001B[49m\u001B[43mcopy\u001B[49m\u001B[38;5;241;43m=\u001B[39;49m\u001B[38;5;28;43;01mFalse\u001B[39;49;00m\u001B[43m)\u001B[49m\n\u001B[0;32m  11038\u001B[0m \u001B[38;5;28;01mif\u001B[39;00m method \u001B[38;5;241m==\u001B[39m \u001B[38;5;124m\"\u001B[39m\u001B[38;5;124mpearson\u001B[39m\u001B[38;5;124m\"\u001B[39m:\n\u001B[0;32m  11039\u001B[0m     correl \u001B[38;5;241m=\u001B[39m libalgos\u001B[38;5;241m.\u001B[39mnancorr(mat, minp\u001B[38;5;241m=\u001B[39mmin_periods)\n",
      "File \u001B[1;32m~\\OneDrive\\Bureau\\EPSI I1 Local\\Atl Big Data & Traitement IA\\21-03-2024\\venv\\lib\\site-packages\\pandas\\core\\frame.py:1981\u001B[0m, in \u001B[0;36mDataFrame.to_numpy\u001B[1;34m(self, dtype, copy, na_value)\u001B[0m\n\u001B[0;32m   1979\u001B[0m \u001B[38;5;28;01mif\u001B[39;00m dtype \u001B[38;5;129;01mis\u001B[39;00m \u001B[38;5;129;01mnot\u001B[39;00m \u001B[38;5;28;01mNone\u001B[39;00m:\n\u001B[0;32m   1980\u001B[0m     dtype \u001B[38;5;241m=\u001B[39m np\u001B[38;5;241m.\u001B[39mdtype(dtype)\n\u001B[1;32m-> 1981\u001B[0m result \u001B[38;5;241m=\u001B[39m \u001B[38;5;28;43mself\u001B[39;49m\u001B[38;5;241;43m.\u001B[39;49m\u001B[43m_mgr\u001B[49m\u001B[38;5;241;43m.\u001B[39;49m\u001B[43mas_array\u001B[49m\u001B[43m(\u001B[49m\u001B[43mdtype\u001B[49m\u001B[38;5;241;43m=\u001B[39;49m\u001B[43mdtype\u001B[49m\u001B[43m,\u001B[49m\u001B[43m \u001B[49m\u001B[43mcopy\u001B[49m\u001B[38;5;241;43m=\u001B[39;49m\u001B[43mcopy\u001B[49m\u001B[43m,\u001B[49m\u001B[43m \u001B[49m\u001B[43mna_value\u001B[49m\u001B[38;5;241;43m=\u001B[39;49m\u001B[43mna_value\u001B[49m\u001B[43m)\u001B[49m\n\u001B[0;32m   1982\u001B[0m \u001B[38;5;28;01mif\u001B[39;00m result\u001B[38;5;241m.\u001B[39mdtype \u001B[38;5;129;01mis\u001B[39;00m \u001B[38;5;129;01mnot\u001B[39;00m dtype:\n\u001B[0;32m   1983\u001B[0m     result \u001B[38;5;241m=\u001B[39m np\u001B[38;5;241m.\u001B[39marray(result, dtype\u001B[38;5;241m=\u001B[39mdtype, copy\u001B[38;5;241m=\u001B[39m\u001B[38;5;28;01mFalse\u001B[39;00m)\n",
      "File \u001B[1;32m~\\OneDrive\\Bureau\\EPSI I1 Local\\Atl Big Data & Traitement IA\\21-03-2024\\venv\\lib\\site-packages\\pandas\\core\\internals\\managers.py:1692\u001B[0m, in \u001B[0;36mBlockManager.as_array\u001B[1;34m(self, dtype, copy, na_value)\u001B[0m\n\u001B[0;32m   1690\u001B[0m         arr\u001B[38;5;241m.\u001B[39mflags\u001B[38;5;241m.\u001B[39mwriteable \u001B[38;5;241m=\u001B[39m \u001B[38;5;28;01mFalse\u001B[39;00m\n\u001B[0;32m   1691\u001B[0m \u001B[38;5;28;01melse\u001B[39;00m:\n\u001B[1;32m-> 1692\u001B[0m     arr \u001B[38;5;241m=\u001B[39m \u001B[38;5;28;43mself\u001B[39;49m\u001B[38;5;241;43m.\u001B[39;49m\u001B[43m_interleave\u001B[49m\u001B[43m(\u001B[49m\u001B[43mdtype\u001B[49m\u001B[38;5;241;43m=\u001B[39;49m\u001B[43mdtype\u001B[49m\u001B[43m,\u001B[49m\u001B[43m \u001B[49m\u001B[43mna_value\u001B[49m\u001B[38;5;241;43m=\u001B[39;49m\u001B[43mna_value\u001B[49m\u001B[43m)\u001B[49m\n\u001B[0;32m   1693\u001B[0m     \u001B[38;5;66;03m# The underlying data was copied within _interleave, so no need\u001B[39;00m\n\u001B[0;32m   1694\u001B[0m     \u001B[38;5;66;03m# to further copy if copy=True or setting na_value\u001B[39;00m\n\u001B[0;32m   1696\u001B[0m \u001B[38;5;28;01mif\u001B[39;00m na_value \u001B[38;5;129;01mis\u001B[39;00m lib\u001B[38;5;241m.\u001B[39mno_default:\n",
      "File \u001B[1;32m~\\OneDrive\\Bureau\\EPSI I1 Local\\Atl Big Data & Traitement IA\\21-03-2024\\venv\\lib\\site-packages\\pandas\\core\\internals\\managers.py:1751\u001B[0m, in \u001B[0;36mBlockManager._interleave\u001B[1;34m(self, dtype, na_value)\u001B[0m\n\u001B[0;32m   1749\u001B[0m     \u001B[38;5;28;01melse\u001B[39;00m:\n\u001B[0;32m   1750\u001B[0m         arr \u001B[38;5;241m=\u001B[39m blk\u001B[38;5;241m.\u001B[39mget_values(dtype)\n\u001B[1;32m-> 1751\u001B[0m     \u001B[43mresult\u001B[49m\u001B[43m[\u001B[49m\u001B[43mrl\u001B[49m\u001B[38;5;241;43m.\u001B[39;49m\u001B[43mindexer\u001B[49m\u001B[43m]\u001B[49m \u001B[38;5;241m=\u001B[39m arr\n\u001B[0;32m   1752\u001B[0m     itemmask[rl\u001B[38;5;241m.\u001B[39mindexer] \u001B[38;5;241m=\u001B[39m \u001B[38;5;241m1\u001B[39m\n\u001B[0;32m   1754\u001B[0m \u001B[38;5;28;01mif\u001B[39;00m \u001B[38;5;129;01mnot\u001B[39;00m itemmask\u001B[38;5;241m.\u001B[39mall():\n",
      "\u001B[1;31mValueError\u001B[0m: could not convert string to float: 'NEAR BAY'"
     ]
    }
   ],
   "source": [
    "# Correlate median_house_value and median_income\n",
    "corr_matrix = df.corr()\n",
    "corr_matrix[\"median_house_value\"].sort_values(ascending=False)"
   ]
  },
  {
   "cell_type": "code",
   "execution_count": null,
   "id": "1690df06",
   "metadata": {
    "ExecuteTime": {
     "start_time": "2024-04-17T07:28:09.037629Z"
    }
   },
   "outputs": [],
   "source": [
    "import seaborn as sns"
   ]
  },
  {
   "cell_type": "code",
   "execution_count": null,
   "id": "8601c03a",
   "metadata": {
    "ExecuteTime": {
     "start_time": "2024-04-17T07:28:09.039706Z"
    }
   },
   "outputs": [],
   "source": [
    "fig, ax = plt.subplots(figsize=(7, 7))\n",
    "sns.heatmap(corr_matrix, annot=True, ax=ax, cmap='RdYlGn', center=0)"
   ]
  },
  {
   "attachments": {},
   "cell_type": "markdown",
   "id": "a1e90450",
   "metadata": {},
   "source": [
    "# Tests de variance ou d'anova\n",
    "Quand PR(>F) est inférieur à 0.05, on peut correler les variables, sinon on ne peut pas les corréler."
   ]
  },
  {
   "cell_type": "code",
   "execution_count": null,
   "id": "95601a51",
   "metadata": {
    "ExecuteTime": {
     "start_time": "2024-04-17T07:28:09.040824Z"
    }
   },
   "outputs": [],
   "source": [
    "import statsmodels.api as sm\n",
    "from statsmodels.formula.api import ols\n",
    "\n",
    "model = ols('median_house_value ~ ocean_proximity', data=df).fit()\n",
    "anova_result = sm.stats.anova_lm(model, typ=2)\n",
    "anova_result"
   ]
  },
  {
   "cell_type": "code",
   "execution_count": null,
   "id": "fead8ac5",
   "metadata": {},
   "outputs": [],
   "source": [
    "# =acos(sin(lat1)sin(lat2)+cos(lat1)cos(lat2)cos(lon2-lon1))6371 (6371 is Earth radius in km.)\n",
    "from math import acos, sin, cos, radians, asin\n",
    "\n",
    "\n",
    "def get_distance(lat, lon):\n",
    "    # point centrale de la Californie\n",
    "    lat_cal, lon_cal = 0.6497784708819503, -2.095224709746546\n",
    "    \n",
    "    # convertir les degrés en radians\n",
    "    lat = radians(lat)\n",
    "    lon = radians(lon)\n",
    "    \n",
    "    # calculer la distance\n",
    "    return acos((sin(lat) * sin(lat_cal)) + (cos(lat) * cos(lat_cal) * cos(lon_cal-lon))) * 6371"
   ]
  },
  {
   "cell_type": "code",
   "execution_count": null,
   "id": "0d24a783",
   "metadata": {
    "ExecuteTime": {
     "start_time": "2024-04-17T07:28:09.043961Z"
    }
   },
   "outputs": [],
   "source": [
    "# add new column with distance and drop lat lon\n",
    "\n",
    "# loop over the dataframe, get the lat, lon and index\n",
    "for lat, lon, index in zip(df[\"latitude\"], df[\"longitude\"], df.index):\n",
    "    # add the distance to the dataframe at the index\n",
    "    df.loc[index, \"distance\"] = get_distance(lat, lon)\n",
    "\n",
    "\n",
    "# drop latitude and longitude\n",
    "df.drop([\"latitude\", \"longitude\"], axis=1, inplace=True)"
   ]
  },
  {
   "attachments": {},
   "cell_type": "markdown",
   "id": "8b0f08d3",
   "metadata": {},
   "source": [
    "# Gestion des valeurs manquantes"
   ]
  },
  {
   "cell_type": "code",
   "execution_count": null,
   "id": "9d151887",
   "metadata": {},
   "outputs": [],
   "source": [
    "df.isna().sum()"
   ]
  },
  {
   "cell_type": "markdown",
   "id": "92ce0385",
   "metadata": {},
   "source": [
    "# Drop the rows with missing values"
   ]
  },
  {
   "cell_type": "code",
   "execution_count": null,
   "id": "32e22598",
   "metadata": {
    "ExecuteTime": {
     "start_time": "2024-04-17T07:28:09.047143Z"
    }
   },
   "outputs": [],
   "source": [
    "# inplace=True to modify the dataframe\n",
    "df.dropna(inplace=True)"
   ]
  },
  {
   "cell_type": "code",
   "execution_count": null,
   "id": "3d65e8d2",
   "metadata": {
    "ExecuteTime": {
     "start_time": "2024-04-17T07:28:09.049326Z"
    }
   },
   "outputs": [],
   "source": [
    "# Afficher le nombre de valeurs manquantes par variable après le nettoyage\n",
    "df.isna().sum()"
   ]
  },
  {
   "cell_type": "code",
   "execution_count": 21,
   "id": "f81e364b",
   "metadata": {
    "ExecuteTime": {
     "end_time": "2024-04-17T07:28:09.093497Z",
     "start_time": "2024-04-17T07:28:09.052468Z"
    }
   },
   "outputs": [
    {
     "data": {
      "text/plain": "Empty DataFrame\nColumns: [index, housing_median_age, total_rooms, total_bedrooms, population, households, median_income, median_house_value, ocean_proximity, distance]\nIndex: []",
      "text/html": "<div>\n<style scoped>\n    .dataframe tbody tr th:only-of-type {\n        vertical-align: middle;\n    }\n\n    .dataframe tbody tr th {\n        vertical-align: top;\n    }\n\n    .dataframe thead th {\n        text-align: right;\n    }\n</style>\n<table border=\"1\" class=\"dataframe\">\n  <thead>\n    <tr style=\"text-align: right;\">\n      <th></th>\n      <th>index</th>\n      <th>housing_median_age</th>\n      <th>total_rooms</th>\n      <th>total_bedrooms</th>\n      <th>population</th>\n      <th>households</th>\n      <th>median_income</th>\n      <th>median_house_value</th>\n      <th>ocean_proximity</th>\n      <th>distance</th>\n    </tr>\n  </thead>\n  <tbody>\n  </tbody>\n</table>\n</div>"
     },
     "execution_count": 21,
     "metadata": {},
     "output_type": "execute_result"
    }
   ],
   "source": [
    "# Show the number of duplicated rows\n",
    "df[df.duplicated()]"
   ]
  },
  {
   "attachments": {},
   "cell_type": "markdown",
   "id": "c416a2e8",
   "metadata": {},
   "source": [
    "# Tukey diagram for all the variables"
   ]
  },
  {
   "cell_type": "code",
   "execution_count": 22,
   "id": "2b975773",
   "metadata": {
    "ExecuteTime": {
     "end_time": "2024-04-17T07:28:09.141283Z",
     "start_time": "2024-04-17T07:28:09.112093Z"
    }
   },
   "outputs": [
    {
     "ename": "NameError",
     "evalue": "name 'plt' is not defined",
     "output_type": "error",
     "traceback": [
      "\u001B[1;31m---------------------------------------------------------------------------\u001B[0m",
      "\u001B[1;31mNameError\u001B[0m                                 Traceback (most recent call last)",
      "Cell \u001B[1;32mIn[22], line 4\u001B[0m\n\u001B[0;32m      1\u001B[0m \u001B[38;5;66;03m# iterate over columns, create boxplot\u001B[39;00m\n\u001B[0;32m      2\u001B[0m \u001B[38;5;66;03m# figure is created for each column to avoid overlapping\u001B[39;00m\n\u001B[0;32m      3\u001B[0m \u001B[38;5;28;01mfor\u001B[39;00m col, _ \u001B[38;5;129;01min\u001B[39;00m df\u001B[38;5;241m.\u001B[39mitems():\n\u001B[1;32m----> 4\u001B[0m     \u001B[43mplt\u001B[49m\u001B[38;5;241m.\u001B[39mfigure()\n\u001B[0;32m      5\u001B[0m     df\u001B[38;5;241m.\u001B[39mboxplot([col])\n",
      "\u001B[1;31mNameError\u001B[0m: name 'plt' is not defined"
     ]
    }
   ],
   "source": [
    "# iterate over columns, create boxplot\n",
    "# figure is created for each column to avoid overlapping\n",
    "for col, _ in df.items():\n",
    "    plt.figure()\n",
    "    df.boxplot([col])"
   ]
  },
  {
   "cell_type": "code",
   "execution_count": 23,
   "id": "07e6bde3",
   "metadata": {
    "ExecuteTime": {
     "end_time": "2024-04-17T07:28:09.187242Z",
     "start_time": "2024-04-17T07:28:09.155465Z"
    }
   },
   "outputs": [
    {
     "ename": "ModuleNotFoundError",
     "evalue": "No module named 'seaborn'",
     "output_type": "error",
     "traceback": [
      "\u001B[1;31m---------------------------------------------------------------------------\u001B[0m",
      "\u001B[1;31mModuleNotFoundError\u001B[0m                       Traceback (most recent call last)",
      "Cell \u001B[1;32mIn[23], line 3\u001B[0m\n\u001B[0;32m      1\u001B[0m \u001B[38;5;66;03m# each line is a block\u001B[39;00m\n\u001B[1;32m----> 3\u001B[0m \u001B[38;5;28;01mimport\u001B[39;00m \u001B[38;5;21;01mseaborn\u001B[39;00m \u001B[38;5;28;01mas\u001B[39;00m \u001B[38;5;21;01msns\u001B[39;00m\n\u001B[0;32m      5\u001B[0m sns\u001B[38;5;241m.\u001B[39mboxplot( y \u001B[38;5;241m=\u001B[39m df[\u001B[38;5;124m\"\u001B[39m\u001B[38;5;124mmedian_income\u001B[39m\u001B[38;5;124m\"\u001B[39m], data\u001B[38;5;241m=\u001B[39mdf)\n\u001B[0;32m      6\u001B[0m plt\u001B[38;5;241m.\u001B[39mshow()\n",
      "\u001B[1;31mModuleNotFoundError\u001B[0m: No module named 'seaborn'"
     ]
    }
   ],
   "source": [
    "# each line is a block\n",
    "\n",
    "import seaborn as sns\n",
    "\n",
    "sns.boxplot( y = df[\"median_income\"], data=df)\n",
    "plt.show()"
   ]
  },
  {
   "cell_type": "markdown",
   "id": "20f080fe",
   "metadata": {},
   "source": [
    "# Remove values between min and max"
   ]
  },
  {
   "cell_type": "code",
   "execution_count": 24,
   "id": "afbf465b",
   "metadata": {
    "ExecuteTime": {
     "end_time": "2024-04-17T07:28:09.258175Z",
     "start_time": "2024-04-17T07:28:09.238824Z"
    }
   },
   "outputs": [],
   "source": [
    "# max = q3 + 1.5 * IQR\n",
    "# min = q1 - 1.5 * IQR\n",
    "\n",
    "import numpy as np\n",
    "\n",
    "# Compute quartiles and interquartile range\n",
    "q1, q3 = np.percentile(df[\"median_income\"], [25, 75])\n",
    "iqr = q3 - q1\n",
    "\n",
    "# Compute outlier boundaries\n",
    "upper_bound = q3 + 1.5 * iqr\n",
    "lower_bound = q1 - 1.5 * iqr\n",
    "\n",
    "# Filter outliers\n",
    "outliers = df[(df[\"median_income\"] > upper_bound) | (df[\"median_income\"] < lower_bound)]\n",
    "\n",
    "# remove from df\n",
    "df = df.drop(outliers.index)"
   ]
  },
  {
   "cell_type": "code",
   "execution_count": 25,
   "id": "0efa8525",
   "metadata": {
    "ExecuteTime": {
     "end_time": "2024-04-17T07:28:09.345178Z",
     "start_time": "2024-04-17T07:28:09.316839Z"
    }
   },
   "outputs": [
    {
     "ename": "ModuleNotFoundError",
     "evalue": "No module named 'seaborn'",
     "output_type": "error",
     "traceback": [
      "\u001B[1;31m---------------------------------------------------------------------------\u001B[0m",
      "\u001B[1;31mModuleNotFoundError\u001B[0m                       Traceback (most recent call last)",
      "Cell \u001B[1;32mIn[25], line 3\u001B[0m\n\u001B[0;32m      1\u001B[0m \u001B[38;5;66;03m# each line is a block\u001B[39;00m\n\u001B[1;32m----> 3\u001B[0m \u001B[38;5;28;01mimport\u001B[39;00m \u001B[38;5;21;01mseaborn\u001B[39;00m \u001B[38;5;28;01mas\u001B[39;00m \u001B[38;5;21;01msns\u001B[39;00m\n\u001B[0;32m      5\u001B[0m sns\u001B[38;5;241m.\u001B[39mboxplot( y \u001B[38;5;241m=\u001B[39m df[\u001B[38;5;124m\"\u001B[39m\u001B[38;5;124mmedian_income\u001B[39m\u001B[38;5;124m\"\u001B[39m], data\u001B[38;5;241m=\u001B[39mdf)\n\u001B[0;32m      6\u001B[0m plt\u001B[38;5;241m.\u001B[39mshow()\n",
      "\u001B[1;31mModuleNotFoundError\u001B[0m: No module named 'seaborn'"
     ]
    }
   ],
   "source": [
    "# each line is a block\n",
    "\n",
    "import seaborn as sns\n",
    "\n",
    "sns.boxplot( y = df[\"median_income\"], data=df)\n",
    "plt.show()"
   ]
  },
  {
   "cell_type": "code",
   "execution_count": 26,
   "id": "4e6d99b6",
   "metadata": {
    "ExecuteTime": {
     "end_time": "2024-04-17T07:28:09.620348Z",
     "start_time": "2024-04-17T07:28:09.430658Z"
    }
   },
   "outputs": [],
   "source": [
    "df.to_csv(\"clean_dataset.csv\")"
   ]
  }
 ],
 "metadata": {
  "kernelspec": {
   "display_name": "Python 3",
   "language": "python",
   "name": "python3"
  },
  "language_info": {
   "codemirror_mode": {
    "name": "ipython",
    "version": 3
   },
   "file_extension": ".py",
   "mimetype": "text/x-python",
   "name": "python",
   "nbconvert_exporter": "python",
   "pygments_lexer": "ipython3",
   "version": "3.10.9"
  },
  "vscode": {
   "interpreter": {
    "hash": "a83cbc3615bb96fa8645e3aedbfd94d4b821672b2100abae7417f3d011c7470a"
   }
  }
 },
 "nbformat": 4,
 "nbformat_minor": 5
}
